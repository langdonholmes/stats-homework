{
 "cells": [
  {
   "cell_type": "markdown",
   "id": "ec267a69",
   "metadata": {},
   "source": [
    "1.  Consider an experiment consisting of 4 Bernoulli trials, each with\n",
    "    the same probability p of success (0=failure, 1=success). The\n",
    "    outcome is binomial(n,p) with n = 4 and p = .26. List all the\n",
    "    possible outcomes of this experiment (0000, 0010, etc.) and compute\n",
    "    using the formula the binomial probabilities associated with each of\n",
    "    them. \\[6\\]\n"
   ]
  },
  {
   "cell_type": "code",
   "execution_count": 2,
   "id": "73c66505",
   "metadata": {
    "tags": []
   },
   "outputs": [
    {
     "name": "stdout",
     "output_type": "stream",
     "text": [
      "(0, 0, 0, 0) -- 0.3\n",
      "(0, 0, 0, 1) -- 0.105\n",
      "(0, 0, 1, 0) -- 0.105\n",
      "(0, 0, 1, 1) -- 0.037\n",
      "(0, 1, 0, 0) -- 0.105\n",
      "(0, 1, 0, 1) -- 0.037\n",
      "(0, 1, 1, 0) -- 0.037\n",
      "(0, 1, 1, 1) -- 0.013\n",
      "(1, 0, 0, 0) -- 0.105\n",
      "(1, 0, 0, 1) -- 0.037\n",
      "(1, 0, 1, 0) -- 0.037\n",
      "(1, 0, 1, 1) -- 0.013\n",
      "(1, 1, 0, 0) -- 0.037\n",
      "(1, 1, 0, 1) -- 0.013\n",
      "(1, 1, 1, 0) -- 0.013\n",
      "(1, 1, 1, 1) -- 0.005\n"
     ]
    }
   ],
   "source": [
    "from itertools import product\n",
    "\n",
    "def binomial(p, n, k, combine=False):\n",
    "    '''p (float): probability of success\n",
    "    n (int): number of trials\n",
    "    k (int): number of successes\n",
    "    combine (bool): combine probabilities for permutations of sequence\n",
    "    '''\n",
    "    if combine:\n",
    "        n_choose_k = factorial(n)/(factorial(k)*factorial(n-k))\n",
    "        return n_choose_k*binomial(p, n, k)\n",
    "    else:\n",
    "        return (p**k) * (1-p)**(n-k)\n",
    "\n",
    "for outcome in product([0,1], repeat=4):\n",
    "    k = sum(outcome) # number of successes\n",
    "    print(outcome, '--', round    \n",
    "    (binomial(.26, 4, k), 3))"
   ]
  },
  {
   "cell_type": "code",
   "execution_count": 10,
   "id": "45851888-a759-4e54-8a8f-9429de63edd8",
   "metadata": {
    "tags": []
   },
   "outputs": [
    {
     "data": {
      "text/plain": [
       "1.907e-06"
      ]
     },
     "execution_count": 10,
     "metadata": {},
     "output_type": "execute_result"
    }
   ],
   "source": [
    "round(.5**19, 9)"
   ]
  },
  {
   "cell_type": "code",
   "execution_count": 19,
   "id": "cde0e1ab-c7c5-4811-9154-3b76245cfeaf",
   "metadata": {
    "tags": []
   },
   "outputs": [
    {
     "name": "stdout",
     "output_type": "stream",
     "text": [
      "0.0268554688\n",
      "0.0053710938\n",
      "0.0004882812\n"
     ]
    }
   ],
   "source": [
    "for k in range(9, 12):\n",
    "    print(f'{binomial(0.5, 11, k, combine=True):.10f}')"
   ]
  },
  {
   "cell_type": "markdown",
   "id": "d1a091c8",
   "metadata": {},
   "source": [
    "2.  American football games traditionally begin with a coin toss to\n",
    "    determine who gets the first kickoff. In the 2015 season, the New\n",
    "    England Patriots won 19 out of 26 tosses. Test the null hypothesis\n",
    "    that fair coins were used (with a 2-tailed test). Do all\n",
    "    calculations by hand, but you can double-check your answer with\n",
    "    Excel, SPSS, or some other software. \\[6\\]\n"
   ]
  },
  {
   "cell_type": "code",
   "execution_count": 18,
   "id": "478efb63",
   "metadata": {
    "tags": []
   },
   "outputs": [
    {
     "name": "stdout",
     "output_type": "stream",
     "text": [
      "p-value (one-tailed): 0.03271\n",
      "p-value (two-tailed): 0.06543\n"
     ]
    }
   ],
   "source": [
    "from math import factorial\n",
    "\n",
    "prob = .5\n",
    "num_trials = 11\n",
    "observed_value = 9\n",
    "\n",
    "as_or_more_extreme = sum(binomial(prob, num_trials, x, combine=True)\n",
    "                         for x in range(observed_value, num_trials+1))\n",
    "\n",
    "print(f'p-value (one-tailed): {as_or_more_extreme:.5f}')\n",
    "print(f'p-value (two-tailed): {as_or_more_extreme*2:.5f}')"
   ]
  },
  {
   "cell_type": "markdown",
   "id": "ae4c9d6d",
   "metadata": {},
   "source": [
    "There is sufficient evidence to reject the null hypothesis that the coin\n",
    "tosses were fair.\n",
    "\n",
    "3.  Tape a penny and a quarter together with clear tape so that the\n",
    "    quarter is \"heads\" and the penny is \"tails.\" Flip this new 26¢ coin\n",
    "    50 times, each time recording the outcome (heads=1, tails=0). Is\n",
    "    there evidence to suggest that the \"coin\" is not fair? In the course\n",
    "    of your investigation, use Excel's BINOM.DIST function and SPSS.\n",
    "    Note any agreements and disagreements among the different software\n",
    "    applications. \\[6\\]\n"
   ]
  },
  {
   "cell_type": "code",
   "execution_count": null,
   "id": "735ab12c",
   "metadata": {},
   "outputs": [],
   "source": [
    "# I flipped a student union button 50 times because I could not find a penny\n",
    "observations = ('001111011111111110010000111111)"
   ]
  },
  {
   "cell_type": "markdown",
   "id": "d9587c28",
   "metadata": {},
   "source": [
    "4.  You hypothesize that the frequency of left-handed and right-handed\n",
    "    people is unequal in the population. To test this hypothesis you\n",
    "    collect data from 19 people and observe 3 lefties. How probable was\n",
    "    an outcome at least this extreme (in either direction) if the\n",
    "    proportions are genuinely equal in the population? Obtain an exact\n",
    "    p-value from a binomial distribution. Also conduct a 2 test of\n",
    "    goodness of fit (by hand, with and without a correction for\n",
    "    continuity), and compare the results to those you obtained using the\n",
    "    binomial distribution. Precise p-values can be obtained for  2\n",
    "    tests using any of a number of online utilities, for instance this\n",
    "    one: http://www.graphpad.com/quickcalcs/PValue1.cfm. \\[6\\]\n"
   ]
  },
  {
   "cell_type": "code",
   "execution_count": null,
   "id": "586e4cf0",
   "metadata": {},
   "outputs": [],
   "source": [
    "prob = .5\n",
    "num_trials = 19\n",
    "observed_value = 19-3\n",
    "\n",
    "as_or_more_extreme = sum(binomial(prob, num_trials, x, combine=True)\n",
    "                         for x in range(observed_value, num_trials+1))\n",
    "print(f'p-value (one-tailed): {as_or_more_extreme:.3f}')\n",
    "print(f'p-value (two-tailed): {as_or_more_extreme*2:.3f}')"
   ]
  },
  {
   "cell_type": "code",
   "execution_count": 20,
   "id": "70c2611e",
   "metadata": {
    "tags": []
   },
   "outputs": [
    {
     "name": "stdout",
     "output_type": "stream",
     "text": [
      "The chi-squared test statistic is 4.455\n",
      "The corrected chi-squared test statistic is 3.273\n"
     ]
    }
   ],
   "source": [
    "def chi_square(observeds_expecteds, correct_continuity=False):\n",
    "    '''observeds_expecteds iter(tuple(int|float)): iterable of observed-expected tuples\n",
    "    correct_continuity (bool): whether to apply Yates' correction for continuity\n",
    "    '''\n",
    "    if correct_continuity:\n",
    "        return sum(\n",
    "            (((abs(o-e)-0.5)**2) / e)\n",
    "            for o, e in observeds_expecteds\n",
    "        )\n",
    "    \n",
    "    else:\n",
    "        return sum(\n",
    "            ((o-e)**2 / e)\n",
    "            for o, e in observeds_expecteds\n",
    "        )\n",
    "\n",
    "count_data = ((16, 9.5), (3, 9.5))\n",
    "count_data = ((9, 5.5), (2, 5.5))\n",
    "\n",
    "chi_test_statistic = chi_square(count_data, correct_continuity=False)\n",
    "corrected_chi = chi_square(count_data, correct_continuity=True)\n",
    "\n",
    "print(f'The chi-squared test statistic is {chi_test_statistic:.3f}')\n",
    "print(f'The corrected chi-squared test statistic is {corrected_chi:.3f}')"
   ]
  },
  {
   "cell_type": "markdown",
   "id": "38b40332",
   "metadata": {},
   "source": [
    "The p-value for the uncorrected chi-squared test (df=1) is .0029.\n",
    "For the corrected chi-squared test, the p-value is .0059. The uncorrected p-value is lower than the (two-tailed) binomial test, and the corrected p-value is higher than the two-tailed test, but all tests demonstrate sufficient evidence to reject the null hypothesis that the frequency of left- and right-handed people is equal in the population.\n",
    "\n",
    "5.  Using enumeration, derive the exact sampling distribution of the\n",
    "    number of runs when N = 7 observations, when m = 4 and n = 3. What\n",
    "    is the p-value associated with observing 3 or fewer runs? \\[5\\]\n"
   ]
  },
  {
   "cell_type": "code",
   "execution_count": null,
   "id": "5be2eed2",
   "metadata": {},
   "outputs": [],
   "source": [
    "for outcome in product([0,1], repeat=4):\n",
    "    k = sum(outcome) # number of successes\n",
    "    print(outcome, '--', round    \n",
    "    (binomial(.26, 4, k), 3))"
   ]
  },
  {
   "cell_type": "markdown",
   "id": "875bb2ad-2b43-4fc1-b864-e6c41b15ca9e",
   "metadata": {},
   "source": [
    "6.  Using SPSS, conduct a runs test of the null hypothesis that the\n",
    "    following sequence of numbers is randomly ordered \\[5\\]:\n",
    "    001111100001111011000010000001110000\n",
    "    "
   ]
  },
  {
   "cell_type": "code",
   "execution_count": 22,
   "id": "96e75010-d09e-4ba3-b9c1-93efcc4cb03b",
   "metadata": {
    "tags": []
   },
   "outputs": [
    {
     "name": "stdout",
     "output_type": "stream",
     "text": [
      "Uncorrected:\n",
      "Z-score = 4.591 p-value = 0.0000044047\n",
      "Corrected:\n",
      "Z-score = 4.591 p-value = 0.0000044047\n"
     ]
    }
   ],
   "source": [
    "from statsmodels.sandbox.stats.runs import runstest_1samp\n",
    "data = [int(i) for i in '01010101000010101010010100101010101101011010101011']\n",
    "\n",
    "corrected = runstest_1samp(data, correction=True)\n",
    "uncorrected = runstest_1samp(data, correction=False)\n",
    "\n",
    "print(f'Uncorrected:\\nZ-score = {uncorrected[0]:.3f} p-value = {uncorrected[1]:.10f}')\n",
    "print(f'Corrected:\\nZ-score = {corrected[0]:.3f} p-value = {corrected[1]:.10f}')"
   ]
  },
  {
   "cell_type": "markdown",
   "id": "3a0332d3-b0d4-4ed3-87d5-f40fef22b9bf",
   "metadata": {},
   "source": [
    "7.  The following data represent measurement occasions and scores for\n",
    "    one individual on hourly repeated administrations of Preacher's\n",
    "    Irritability Scale (Schedule Y). Fit a simple linear regression\n",
    "    model to these data. In regression, the errors are assumed\n",
    "    independent. Yet with repeated measures on a single instrument, this\n",
    "    assumption is questionable because adjacent errors are often\n",
    "    correlated. Use an appropriate test of randomness to determine\n",
    "    whether there is evidence for autocorrelation of residuals. Use a\n",
    "    1-tailed test at  = .05 \\[6\\]"
   ]
  }
 ],
 "metadata": {
  "kernelspec": {
   "display_name": "Python 3 (ipykernel)",
   "language": "python",
   "name": "python3"
  },
  "language_info": {
   "codemirror_mode": {
    "name": "ipython",
    "version": 3
   },
   "file_extension": ".py",
   "mimetype": "text/x-python",
   "name": "python",
   "nbconvert_exporter": "python",
   "pygments_lexer": "ipython3",
   "version": "3.10.9"
  }
 },
 "nbformat": 4,
 "nbformat_minor": 5
}
